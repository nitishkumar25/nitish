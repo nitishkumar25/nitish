{
 "cells": [
  {
   "cell_type": "markdown",
   "metadata": {},
   "source": [
    "1) Operators : * , - , / , +\n",
    "\n",
    "   Values    : 'hello' , -87.8 , 6"
   ]
  },
  {
   "cell_type": "markdown",
   "metadata": {},
   "source": [
    "2) String : 'spam'\n",
    "\n",
    "   variable : spam"
   ]
  },
  {
   "cell_type": "markdown",
   "metadata": {},
   "source": [
    "3) Three different data forms are:- Numeric,String,List,Tuple"
   ]
  },
  {
   "cell_type": "markdown",
   "metadata": {},
   "source": [
    "4) A combination of operators and operands makes up an expression.\n",
    "\n",
    "   Function of all expressions is that:\n",
    "   * It helps in making a rule based on our requirement or calculations\n",
    "   * It helps in storing the values whether numeric or string"
   ]
  },
  {
   "cell_type": "markdown",
   "metadata": {},
   "source": [
    "5) Expression is a combination of variables,operation and values that gives a result value.\n",
    "   Declaration of variable simply means to assign a particular data type to a variable.Here spam=10 simply means variable      spam is being assigned an integer value 10"
   ]
  },
  {
   "cell_type": "markdown",
   "metadata": {},
   "source": [
    "6) Here bacon contains 23"
   ]
  },
  {
   "cell_type": "markdown",
   "metadata": {},
   "source": [
    "7) Both will have the Output: 'spamspamapam'"
   ]
  },
  {
   "cell_type": "markdown",
   "metadata": {},
   "source": [
    "8) It is because a variable name cannot start with a number"
   ]
  },
  {
   "cell_type": "markdown",
   "metadata": {},
   "source": [
    "9) For converting a value to integer,floating point and a string functions used are: int() , float() , str()"
   ]
  },
  {
   "cell_type": "markdown",
   "metadata": {},
   "source": [
    "10) Here the error will be type error as data types present here are different and it will not concatenate.To make it run we must change 99 to string from integer by placing it in quotes."
   ]
  }
 ],
 "metadata": {
  "kernelspec": {
   "display_name": "Python 3",
   "language": "python",
   "name": "python3"
  },
  "language_info": {
   "codemirror_mode": {
    "name": "ipython",
    "version": 3
   },
   "file_extension": ".py",
   "mimetype": "text/x-python",
   "name": "python",
   "nbconvert_exporter": "python",
   "pygments_lexer": "ipython3",
   "version": "3.8.5"
  }
 },
 "nbformat": 4,
 "nbformat_minor": 4
}
